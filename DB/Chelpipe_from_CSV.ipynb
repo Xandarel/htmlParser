{
 "cells": [
  {
   "cell_type": "code",
   "execution_count": 1,
   "metadata": {},
   "outputs": [],
   "source": [
    "import pandas as pd\n",
    "import os\n",
    "import sqlite3\n",
    "from DB_insert import find_city, add_article, get_production_method, insert_chelpipe, get_steel, get_production_method\n",
    "import datetime\n",
    "from tqdm import tqdm\n",
    "from natasha import MorphVocab, AddrExtractor\n",
    "# import DB_insert"
   ]
  },
  {
   "cell_type": "code",
   "execution_count": 2,
   "metadata": {},
   "outputs": [],
   "source": [
    "type_dict = {'Холоднодеформированные трубы': 'х/д',\n",
    "             'Горячедеформированные трубы': 'г/д',\n",
    "             'Электросварные трубы': 'ЭСВ',\n",
    "             'Не указано': None}"
   ]
  },
  {
   "cell_type": "code",
   "execution_count": 3,
   "metadata": {},
   "outputs": [],
   "source": [
    "morph_vocab = MorphVocab()\n",
    "addr_extractor = AddrExtractor(morph_vocab)"
   ]
  },
  {
   "cell_type": "code",
   "execution_count": null,
   "metadata": {},
   "outputs": [],
   "source": []
  },
  {
   "cell_type": "code",
   "execution_count": 4,
   "metadata": {},
   "outputs": [
    {
     "data": {
      "text/plain": [
       "(13648, 19)"
      ]
     },
     "execution_count": 4,
     "metadata": {},
     "output_type": "execute_result"
    }
   ],
   "source": [
    "path = r'\\\\chl-vm-aicenter.chtpz.ru\\Projects\\parsing_price\\data'\n",
    "name = r'\\price_td_uts.csv'\n",
    "# df = pd.read_csv(os.path.join(path, name), comment='#', error_bad_lines=False)\n",
    "df = pd.read_csv(path + name, comment='#', sep=';', error_bad_lines=False)\n",
    "df.shape"
   ]
  },
  {
   "cell_type": "code",
   "execution_count": 5,
   "metadata": {},
   "outputs": [],
   "source": [
    "with sqlite3.connect(r'../front/db_test5.sqlite') as connection:\n",
    "    con = connection\n",
    "cur = con.cursor()"
   ]
  },
  {
   "cell_type": "code",
   "execution_count": 6,
   "metadata": {},
   "outputs": [
    {
     "data": {
      "text/html": [
       "<div>\n",
       "<style scoped>\n",
       "    .dataframe tbody tr th:only-of-type {\n",
       "        vertical-align: middle;\n",
       "    }\n",
       "\n",
       "    .dataframe tbody tr th {\n",
       "        vertical-align: top;\n",
       "    }\n",
       "\n",
       "    .dataframe thead th {\n",
       "        text-align: right;\n",
       "    }\n",
       "</style>\n",
       "<table border=\"1\" class=\"dataframe\">\n",
       "  <thead>\n",
       "    <tr style=\"text-align: right;\">\n",
       "      <th></th>\n",
       "      <th>КодНИС</th>\n",
       "      <th>НаименованиеНоменклатуры</th>\n",
       "      <th>ВидДлины</th>\n",
       "      <th>Производитель</th>\n",
       "      <th>ГОСТ</th>\n",
       "      <th>МаркаСтали</th>\n",
       "      <th>Диаметр</th>\n",
       "      <th>Размер2</th>\n",
       "      <th>Стенка</th>\n",
       "      <th>ТипПроизводства</th>\n",
       "      <th>РегионСклада</th>\n",
       "      <th>Склад</th>\n",
       "      <th>ИмеетсяЦенаТовара</th>\n",
       "      <th>ЦенаЗаТонну</th>\n",
       "      <th>ЦенаЗаТонну1</th>\n",
       "      <th>ЦенаЗаТонну2</th>\n",
       "      <th>ЦенаЗаМетр</th>\n",
       "      <th>ЦенаЗаМетр1</th>\n",
       "      <th>ЦенаЗаМетр2</th>\n",
       "    </tr>\n",
       "  </thead>\n",
       "  <tbody>\n",
       "    <tr>\n",
       "      <td>4212</td>\n",
       "      <td>1917267</td>\n",
       "      <td>ТУ 1319-1128-00186654-2012, СтК48, 426 * 20  ...</td>\n",
       "      <td>НК</td>\n",
       "      <td>ЧТПЗ</td>\n",
       "      <td>ТУ 1319-1128-00186654-2012</td>\n",
       "      <td>К48</td>\n",
       "      <td>426.0</td>\n",
       "      <td>0.0</td>\n",
       "      <td>20.0</td>\n",
       "      <td>Горячедеформированные трубы</td>\n",
       "      <td>66</td>\n",
       "      <td>Склад г. Екатеринбург ( ООО \"АКОРТЕС\" )</td>\n",
       "      <td>Да</td>\n",
       "      <td>100866.68</td>\n",
       "      <td>100866.68</td>\n",
       "      <td>100866.68</td>\n",
       "      <td>20198.22</td>\n",
       "      <td>20198.22</td>\n",
       "      <td>20198.22</td>\n",
       "    </tr>\n",
       "    <tr>\n",
       "      <td>4226</td>\n",
       "      <td>1926916</td>\n",
       "      <td>ТРУБЫ б/ш г/д общ назн ГОСТ 8732-78, ГОСТ 8731...</td>\n",
       "      <td>НК</td>\n",
       "      <td>ПНТЗ</td>\n",
       "      <td>8732-78, 8731-74, В</td>\n",
       "      <td>35</td>\n",
       "      <td>102.0</td>\n",
       "      <td>0.0</td>\n",
       "      <td>18.0</td>\n",
       "      <td>Горячедеформированные трубы</td>\n",
       "      <td>50</td>\n",
       "      <td>Склад г. Москва (АО \"Жилевская металлобаза\")  ...</td>\n",
       "      <td>Да</td>\n",
       "      <td>77083.34</td>\n",
       "      <td>76666.67</td>\n",
       "      <td>75833.34</td>\n",
       "      <td>2874.23</td>\n",
       "      <td>2858.70</td>\n",
       "      <td>2827.63</td>\n",
       "    </tr>\n",
       "    <tr>\n",
       "      <td>4227</td>\n",
       "      <td>1926920</td>\n",
       "      <td>ТРУБЫ б/ш г/д общ назн ГОСТ 8732-78, ГОСТ 8731...</td>\n",
       "      <td>НК</td>\n",
       "      <td>ПНТЗ</td>\n",
       "      <td>8732-78, 8731-74, В</td>\n",
       "      <td>35</td>\n",
       "      <td>114.0</td>\n",
       "      <td>0.0</td>\n",
       "      <td>18.0</td>\n",
       "      <td>Горячедеформированные трубы</td>\n",
       "      <td>66</td>\n",
       "      <td>Склад г. Екатеринбург ( ООО \"АКОРТЕС\" )</td>\n",
       "      <td>Да</td>\n",
       "      <td>77500.01</td>\n",
       "      <td>77083.34</td>\n",
       "      <td>76250.01</td>\n",
       "      <td>3302.59</td>\n",
       "      <td>3284.84</td>\n",
       "      <td>3249.33</td>\n",
       "    </tr>\n",
       "    <tr>\n",
       "      <td>4230</td>\n",
       "      <td>1927042</td>\n",
       "      <td>ТУ 1319-1128-00186654-2012, СтК48, 325 * 16  ...</td>\n",
       "      <td>НК</td>\n",
       "      <td>ЧТПЗ</td>\n",
       "      <td>ТУ 1319-1128-00186654-2012</td>\n",
       "      <td>К48</td>\n",
       "      <td>325.0</td>\n",
       "      <td>0.0</td>\n",
       "      <td>16.0</td>\n",
       "      <td>Горячедеформированные трубы</td>\n",
       "      <td>66</td>\n",
       "      <td>Склад г. Екатеринбург ( ООО \"АКОРТЕС\" )</td>\n",
       "      <td>Да</td>\n",
       "      <td>94700.01</td>\n",
       "      <td>94700.01</td>\n",
       "      <td>94700.01</td>\n",
       "      <td>11546.17</td>\n",
       "      <td>11546.17</td>\n",
       "      <td>11546.17</td>\n",
       "    </tr>\n",
       "    <tr>\n",
       "      <td>4236</td>\n",
       "      <td>1930879</td>\n",
       "      <td>Труба б/ш х/д ГОСТ 8734-75, ГОСТ 8733-74 Групп...</td>\n",
       "      <td>НК</td>\n",
       "      <td>ПНТЗ</td>\n",
       "      <td>8734-75, 8733-74, В</td>\n",
       "      <td>09Г2С</td>\n",
       "      <td>16.0</td>\n",
       "      <td>0.0</td>\n",
       "      <td>2.0</td>\n",
       "      <td>Холоднодеформированные трубы</td>\n",
       "      <td>42</td>\n",
       "      <td>Склад г. Новокузнецк (ОАО \"Новокузнецкметаллоп...</td>\n",
       "      <td>Да</td>\n",
       "      <td>227332.36</td>\n",
       "      <td>220512.39</td>\n",
       "      <td>210492.93</td>\n",
       "      <td>156.98</td>\n",
       "      <td>152.27</td>\n",
       "      <td>145.35</td>\n",
       "    </tr>\n",
       "  </tbody>\n",
       "</table>\n",
       "</div>"
      ],
      "text/plain": [
       "       КодНИС                           НаименованиеНоменклатуры ВидДлины  \\\n",
       "4212  1917267   ТУ 1319-1128-00186654-2012, СтК48, 426 * 20  ...       НК   \n",
       "4226  1926916  ТРУБЫ б/ш г/д общ назн ГОСТ 8732-78, ГОСТ 8731...       НК   \n",
       "4227  1926920  ТРУБЫ б/ш г/д общ назн ГОСТ 8732-78, ГОСТ 8731...       НК   \n",
       "4230  1927042   ТУ 1319-1128-00186654-2012, СтК48, 325 * 16  ...       НК   \n",
       "4236  1930879  Труба б/ш х/д ГОСТ 8734-75, ГОСТ 8733-74 Групп...       НК   \n",
       "\n",
       "     Производитель                        ГОСТ МаркаСтали  Диаметр  Размер2  \\\n",
       "4212          ЧТПЗ  ТУ 1319-1128-00186654-2012        К48    426.0      0.0   \n",
       "4226          ПНТЗ         8732-78, 8731-74, В         35    102.0      0.0   \n",
       "4227          ПНТЗ         8732-78, 8731-74, В         35    114.0      0.0   \n",
       "4230          ЧТПЗ  ТУ 1319-1128-00186654-2012        К48    325.0      0.0   \n",
       "4236          ПНТЗ         8734-75, 8733-74, В      09Г2С     16.0      0.0   \n",
       "\n",
       "      Стенка               ТипПроизводства  РегионСклада  \\\n",
       "4212    20.0   Горячедеформированные трубы            66   \n",
       "4226    18.0   Горячедеформированные трубы            50   \n",
       "4227    18.0   Горячедеформированные трубы            66   \n",
       "4230    16.0   Горячедеформированные трубы            66   \n",
       "4236     2.0  Холоднодеформированные трубы            42   \n",
       "\n",
       "                                                  Склад ИмеетсяЦенаТовара  \\\n",
       "4212            Склад г. Екатеринбург ( ООО \"АКОРТЕС\" )                Да   \n",
       "4226  Склад г. Москва (АО \"Жилевская металлобаза\")  ...                Да   \n",
       "4227            Склад г. Екатеринбург ( ООО \"АКОРТЕС\" )                Да   \n",
       "4230            Склад г. Екатеринбург ( ООО \"АКОРТЕС\" )                Да   \n",
       "4236  Склад г. Новокузнецк (ОАО \"Новокузнецкметаллоп...                Да   \n",
       "\n",
       "      ЦенаЗаТонну  ЦенаЗаТонну1  ЦенаЗаТонну2  ЦенаЗаМетр  ЦенаЗаМетр1  \\\n",
       "4212    100866.68     100866.68     100866.68    20198.22     20198.22   \n",
       "4226     77083.34      76666.67      75833.34     2874.23      2858.70   \n",
       "4227     77500.01      77083.34      76250.01     3302.59      3284.84   \n",
       "4230     94700.01      94700.01      94700.01    11546.17     11546.17   \n",
       "4236    227332.36     220512.39     210492.93      156.98       152.27   \n",
       "\n",
       "      ЦенаЗаМетр2  \n",
       "4212     20198.22  \n",
       "4226      2827.63  \n",
       "4227      3249.33  \n",
       "4230     11546.17  \n",
       "4236       145.35  "
      ]
     },
     "execution_count": 6,
     "metadata": {},
     "output_type": "execute_result"
    }
   ],
   "source": [
    "df[df['ЦенаЗаТонну']>0].head()"
   ]
  },
  {
   "cell_type": "code",
   "execution_count": 7,
   "metadata": {},
   "outputs": [
    {
     "data": {
      "text/plain": [
       "Index(['КодНИС', 'НаименованиеНоменклатуры', 'ВидДлины', 'Производитель',\n",
       "       'ГОСТ', 'МаркаСтали', 'Диаметр', 'Размер2', 'Стенка', 'ТипПроизводства',\n",
       "       'РегионСклада', 'Склад', 'ИмеетсяЦенаТовара', 'ЦенаЗаТонну',\n",
       "       'ЦенаЗаТонну1', 'ЦенаЗаТонну2', 'ЦенаЗаМетр', 'ЦенаЗаМетр1',\n",
       "       'ЦенаЗаМетр2'],\n",
       "      dtype='object')"
      ]
     },
     "execution_count": 7,
     "metadata": {},
     "output_type": "execute_result"
    }
   ],
   "source": [
    "df.columns"
   ]
  },
  {
   "cell_type": "code",
   "execution_count": 8,
   "metadata": {},
   "outputs": [
    {
     "name": "stderr",
     "output_type": "stream",
     "text": [
      "100%|██████████| 13648/13648 [1:59:28<00:00,  1.90it/s]  \n"
     ]
    }
   ],
   "source": [
    "time = datetime.datetime.now().timestamp()\n",
    "first = True\n",
    "for index in tqdm(range(df.shape[0])):\n",
    "    name = df.loc[index]['НаименованиеНоменклатуры']\n",
    "    standards = df.loc[index]['ГОСТ'].split(',')\n",
    "#     print(df.loc[index]['МаркаСтали'])\n",
    "    steel_id = get_steel(df.loc[index]['МаркаСтали'], cur, con)\n",
    "    diameter = df.loc[index]['Диаметр']\n",
    "    wall = df.loc[index]['Стенка']\n",
    "    production_method_id = get_production_method(type_dict[df.loc[index]['ТипПроизводства']], cur, con)\n",
    "    city_id = find_city(df.loc[index]['Склад'], cur, con, addr_extractor)\n",
    "    price_min = df.loc[index]['ЦенаЗаТонну'] * 1.2\n",
    "    price_max = df.loc[index]['ЦенаЗаТонну2'] * 1.2\n",
    "    article_id = add_article(int(df.loc[index]['КодНИС']), cur, con)\n",
    "    for standard in standards:\n",
    "        data = [name, standard.strip(), steel_id, diameter, wall, city_id, price_min, \n",
    "                price_max, article_id, time, production_method_id]\n",
    "        insert_chelpipe(data, cur, con, first)\n",
    "        if first:\n",
    "            first = False"
   ]
  },
  {
   "cell_type": "markdown",
   "metadata": {},
   "source": [
    "columns = '(name, standard, steel_id, diameter, wall, city_id, price_min, price_max, article_id, parce_date, method_id)'"
   ]
  },
  {
   "cell_type": "code",
   "execution_count": null,
   "metadata": {},
   "outputs": [],
   "source": []
  }
 ],
 "metadata": {
  "kernelspec": {
   "display_name": "Python 3",
   "language": "python",
   "name": "python3"
  },
  "language_info": {
   "codemirror_mode": {
    "name": "ipython",
    "version": 3
   },
   "file_extension": ".py",
   "mimetype": "text/x-python",
   "name": "python",
   "nbconvert_exporter": "python",
   "pygments_lexer": "ipython3",
   "version": "3.7.4"
  }
 },
 "nbformat": 4,
 "nbformat_minor": 2
}
