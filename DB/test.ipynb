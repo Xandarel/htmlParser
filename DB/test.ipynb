{
 "cells": [
  {
   "cell_type": "code",
   "execution_count": 15,
   "metadata": {},
   "outputs": [
    {
     "ename": "ModuleNotFoundError",
     "evalue": "No module named 'selenium'",
     "output_type": "error",
     "traceback": [
      "\u001b[1;31m---------------------------------------------------------------------------\u001b[0m",
      "\u001b[1;31mModuleNotFoundError\u001b[0m                       Traceback (most recent call last)",
      "\u001b[1;32m<ipython-input-15-e71d72a5e007>\u001b[0m in \u001b[0;36m<module>\u001b[1;34m\u001b[0m\n\u001b[0;32m      2\u001b[0m \u001b[1;32mimport\u001b[0m \u001b[0mjson\u001b[0m\u001b[1;33m\u001b[0m\u001b[1;33m\u001b[0m\u001b[0m\n\u001b[0;32m      3\u001b[0m \u001b[1;32mimport\u001b[0m \u001b[0mrequests\u001b[0m\u001b[1;33m\u001b[0m\u001b[1;33m\u001b[0m\u001b[0m\n\u001b[1;32m----> 4\u001b[1;33m \u001b[1;32mfrom\u001b[0m \u001b[0mselenium\u001b[0m \u001b[1;32mimport\u001b[0m \u001b[0mwebdriver\u001b[0m\u001b[1;33m\u001b[0m\u001b[1;33m\u001b[0m\u001b[0m\n\u001b[0m",
      "\u001b[1;31mModuleNotFoundError\u001b[0m: No module named 'selenium'"
     ]
    }
   ],
   "source": [
    "from bs4 import BeautifulSoup\n",
    "import json\n",
    "import requests\n",
    "from selenium import webdriver"
   ]
  },
  {
   "cell_type": "code",
   "execution_count": 11,
   "metadata": {},
   "outputs": [],
   "source": [
    "def get_html(url):\n",
    "    \"\"\"\n",
    "    функция достаёт html по url\n",
    "    \"\"\"\n",
    "    ret = None\n",
    "    try:\n",
    "        headers = {'User-Agent': 'Mozilla/5.0 (Windows NT 10.0; Win64; x64) AppleWebKit/537.36 (KHTML, like Gecko) Chrome/79.0.3945.130 Safari/537.36'}\n",
    "        r = requests.get(url, headers=headers, verify=False)\n",
    "        ret = r.text\n",
    "    except Exception as e:\n",
    "        print(str(e))\n",
    "\n",
    "    return ret"
   ]
  },
  {
   "cell_type": "code",
   "execution_count": 12,
   "metadata": {},
   "outputs": [
    {
     "name": "stderr",
     "output_type": "stream",
     "text": [
      "C:\\Users\\aobor\\Anaconda3\\lib\\site-packages\\bs4\\__init__.py:357: UserWarning: \"http://dmk.su/truby-i-otvody-jshop/truby-bolshogo-diametra/truba-820kh14-mm-i-vyshe-l-6m-12m\" looks like a URL. Beautiful Soup is not an HTTP client. You should probably use an HTTP client like requests to get the document behind the URL, and feed that document to Beautiful Soup.\n",
      "  ' that document to Beautiful Soup.' % decoded_markup\n"
     ]
    }
   ],
   "source": [
    "url = 'http://dmk.su/truby-i-otvody-jshop/truby-bolshogo-diametra/truba-820kh14-mm-i-vyshe-l-6m-12m'\n",
    "heml = get_html(url)\n",
    "soup = BeautifulSoup(html, 'lxml')\n",
    "product_div = soup.find('div', {'class': 'tab-cont active'})"
   ]
  },
  {
   "cell_type": "code",
   "execution_count": 14,
   "metadata": {},
   "outputs": [
    {
     "name": "stdout",
     "output_type": "stream",
     "text": [
      "<html><body><p>http://dmk.su/truby-i-otvody-jshop/truby-bolshogo-diametra/truba-820kh14-mm-i-vyshe-l-6m-12m</p></body></html>\n"
     ]
    }
   ],
   "source": [
    "print(soup)"
   ]
  },
  {
   "cell_type": "code",
   "execution_count": null,
   "metadata": {},
   "outputs": [],
   "source": [
    "p_data = product_div.get_text(separator='\\n').strip().split('\\n')\n",
    "h1 = soup.find('h1', {'class': '456'}).text.strip().split()"
   ]
  },
  {
   "cell_type": "code",
   "execution_count": null,
   "metadata": {},
   "outputs": [],
   "source": [
    "if len(h1) == 6:\n",
    "    product_type = h1[0] + ' ' + h1[1]\n",
    "    try:\n",
    "        diameter = float(h1[2])\n",
    "    except:\n",
    "        diameter = None\n",
    "    try:\n",
    "        wall = float(h1[4].replace(',', '.'))\n",
    "    except:\n",
    "        wall = None\n",
    "else:\n",
    "    product_type = h1[0]\n",
    "    if 'Труба' in product_type:\n",
    "        try:\n",
    "            diameter = float(h1[1].split('х')[0])\n",
    "        except:\n",
    "            diameter = None\n",
    "        try:\n",
    "            wall = float(h1[1].split('х')[-1].replace(',', '.'))\n",
    "        except:\n",
    "            wall = None\n",
    "    else:\n",
    "        continue\n",
    "try:\n",
    "    price = float(soup.find('span', {'itemprop': 'price'}).text.strip())\n",
    "except:\n",
    "    price = 0\n",
    "try:\n",
    "    max_price = float(p_data[3].strip().replace(' ', '').replace(u'\\xa0', ''))\n",
    "except:\n",
    "    max_price = 0\n",
    "try:\n",
    "    min_price = float(p_data[5].strip().replace(' ', '').replace(u'\\xa0', ''))\n",
    "except:\n",
    "    min_price = 0\n",
    "if p_data[6] == 'Марка стали/ ГОСТ:':\n",
    "    standard = p_data[7].split()[2]\n",
    "    steel = p_data[7].split()[3].split('.')[1]\n",
    "    main_list.append({'region': 'хабаровск',\n",
    "                      'type': product_type,\n",
    "                      'diameter': diameter,\n",
    "                      'wall': wall,\n",
    "                      'price': price,\n",
    "                      'max_price': max_price,\n",
    "                      'min_price': min_price,\n",
    "                      'url': parth_url + info_href,\n",
    "                      'standard': standard,\n",
    "                      'steel': steel})\n",
    "else:\n",
    "    main_list.append({'region': 'хабаровск',\n",
    "                      'type': product_type,\n",
    "                      'diameter': diameter,\n",
    "                      'wall': wall,\n",
    "                      'price': price,\n",
    "                      'max_price': max_price,\n",
    "                      'min_price': min_price,\n",
    "                      'url': parth_url + info_href})"
   ]
  },
  {
   "cell_type": "code",
   "execution_count": null,
   "metadata": {},
   "outputs": [],
   "source": [
    "json_list = json.dumps(main_list,  ensure_ascii=False).replace('},', '},\\n')\n",
    "with open('dmk2.json', \"w\",  encoding='utf-8') as file:\n",
    "    file.write(json_list)"
   ]
  }
 ],
 "metadata": {
  "kernelspec": {
   "display_name": "Python 3",
   "language": "python",
   "name": "python3"
  },
  "language_info": {
   "codemirror_mode": {
    "name": "ipython",
    "version": 3
   },
   "file_extension": ".py",
   "mimetype": "text/x-python",
   "name": "python",
   "nbconvert_exporter": "python",
   "pygments_lexer": "ipython3",
   "version": "3.7.4"
  }
 },
 "nbformat": 4,
 "nbformat_minor": 2
}
