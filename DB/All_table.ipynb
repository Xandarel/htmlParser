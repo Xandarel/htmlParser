{
 "cells": [
  {
   "cell_type": "code",
   "execution_count": 1,
   "metadata": {},
   "outputs": [],
   "source": [
    "import pandas as pd\n",
    "from tqdm import tqdm\n",
    "from DB_api import db\n",
    "import requests\n",
    "import time"
   ]
  },
  {
   "cell_type": "code",
   "execution_count": 2,
   "metadata": {},
   "outputs": [],
   "source": [
    "header = ['Компания', 'Наименование', 'Регион', 'сайт контрагента', 'НИС', 'Стандарт', 'Диаметр', 'Стенка', 'Сталь',\n",
    "          'Тип длины', 'МРЦ', 'Цена ЧТПЗ минимальная', 'Цена ЧТПЗ максимальная', 'Цена контрагента минимальная', \n",
    "          'Отклонение с ЧТПЗ минимальная цена', 'Отклонение с ЧТПЗ максимальная цена',\n",
    "          'Отклонение МРЦ/сайт', 'Демпинг с ЧТПЗ минимальная цена', 'Демпинг с ЧТПЗ максимальная цена', \n",
    "          'Демпинг МРЦ', 'МРЦ ГОСТ', 'МРЦ сталь', 'МРЦ диаметр', 'МРЦ стенка', \n",
    "          'Цена контрагента максимальная','Номер файла']\n",
    "df = pd.DataFrame(columns=header)\n",
    "anomaly_df = pd.DataFrame(columns=header)\n",
    "\n",
    "anomaly_iterator = 0\n",
    "iterator = 0\n",
    "\n",
    "carbon = db.select('name', 'carbon_steel', mode=0)\n",
    "carbon = [i[0] for i in carbon]\n",
    "method = db.select('*', 'production_method', mode=0)\n",
    "methods = {m[0]: m[1] for m in method}\n",
    "columns = 'company_price.name, company_id, standard, steel_id, wall, diameter, city_id, ' \\\n",
    "          'price_min, article_id, city.name as region, company.name as company_name, url, price_max, method_id, file_index'\n",
    "company_price = db.select(columns, 'company_price, city, company', \n",
    "                          'WHERE city_id = city.id AND company_id = company.id', mod='DISTINCT', mode=0)"
   ]
  },
  {
   "cell_type": "code",
   "execution_count": 51,
   "metadata": {},
   "outputs": [],
   "source": [
    "# company_price = db.select(columns, 'company_price, city, company', \n",
    "#                           'WHERE city_id = city.id AND company_id = company.id AND company_id = 1', mod='DISTINCT', mode=0)"
   ]
  },
  {
   "cell_type": "code",
   "execution_count": null,
   "metadata": {},
   "outputs": [],
   "source": [
    "# df_new = pd.DataFrame(columns=header)\n",
    "# iterator = 0"
   ]
  },
  {
   "cell_type": "code",
   "execution_count": 4,
   "metadata": {},
   "outputs": [],
   "source": [
    "where_list = list()"
   ]
  },
  {
   "cell_type": "markdown",
   "metadata": {},
   "source": [
    "--------------------------------------------------------\n",
    "Код на случай, если полетело"
   ]
  },
  {
   "cell_type": "code",
   "execution_count": null,
   "metadata": {},
   "outputs": [],
   "source": [
    "# carbon = db.select('name', 'carbon_steel', mode=0)\n",
    "# carbon = [i[0] for i in carbon]\n",
    "# columns = 'company_price.name, company_id, standard, steel, wall, diameter, city_id, ' \\\n",
    "#           'price_min, article_id, city.name as region, company.name as company_name, url'\n",
    "# company_price = db.select(columns, 'company_price, city, company', \n",
    "#                           'WHERE city_id = city.id AND company_id = company.id', mod='DISTINCT', mode=0)"
   ]
  },
  {
   "cell_type": "code",
   "execution_count": null,
   "metadata": {},
   "outputs": [],
   "source": [
    "# df = pd.read_excel('savefile3.xlsx')\n",
    "# iterator = len(df)"
   ]
  },
  {
   "cell_type": "code",
   "execution_count": 23,
   "metadata": {},
   "outputs": [],
   "source": [
    "# iterator = 0\n",
    "# anomaly_iterator = 0"
   ]
  },
  {
   "cell_type": "markdown",
   "metadata": {},
   "source": [
    "------------------------------------------------------"
   ]
  },
  {
   "cell_type": "code",
   "execution_count": 5,
   "metadata": {},
   "outputs": [
    {
     "name": "stderr",
     "output_type": "stream",
     "text": [
      "100%|██████████| 80258/80258 [2:05:40<00:00, 10.64it/s]  \n"
     ]
    }
   ],
   "source": [
    "for cp in tqdm(company_price):\n",
    "    where_min_value = \"WHERE \"\n",
    "    where_chelpipe = \"WHERE \"\n",
    "    if cp[2]:\n",
    "        if '/' in cp[2]:\n",
    "            standard = cp[2].split('/')\n",
    "            if 'с тех. протоколом' in standard[-1]:\n",
    "                where_min_value += f\"standard like '{standard[0].strip()}%' AND \"\n",
    "                where_chelpipe += f\"standard like '{standard[0].strip()}%' AND \"\n",
    "            else:\n",
    "                where_min_value += f\"(standard like '{standard[0].strip()}%' OR standard like '{standard[1].strip()}%') AND \"\n",
    "                where_chelpipe += f\"(standard like '{standard[0].strip()}%' OR standard like '{standard[1].strip()}%') AND \"\n",
    "        elif cp[2] == '-':\n",
    "            pass\n",
    "        elif '-' in cp[2] and 'ТУ' not in cp[2]:\n",
    "            standard = cp[2].split('-')[0]\n",
    "            where_min_value += f\"standard like '{standard.strip()}%' AND \"\n",
    "            where_chelpipe += f\"standard like '{standard.strip()}%' AND \"\n",
    "        elif ',' in cp[2]:\n",
    "            standard = cp[2].split(',')\n",
    "            where_min_value += f\"(standard like '{standard[0].strip()}%' OR standard like '{standard[1].strip()}%') AND \"\n",
    "            where_chelpipe += f\"(standard like '{standard[0].strip()}%' OR standard like '{standard[1].strip()}%') AND \"\n",
    "        else:\n",
    "            where_min_value += f\"standard like '{cp[2].strip()}%' AND \"\n",
    "            where_chelpipe += f\"standard like '{cp[2].strip()}%' AND \"\n",
    "    if cp[3]:\n",
    "        steel = db.select('steel', 'steels', f'WHERE id={cp[3]}')\n",
    "        carbon_bool = True\n",
    "        where_chelpipe += f\"steel_id = {cp[3]} AND \"\n",
    "        if steel:\n",
    "            if steel[0].strip() in carbon:\n",
    "                where_min_value += f\"steel = 'угл' AND \"\n",
    "                carbon_bool = False\n",
    "            else:\n",
    "                where_min_value += f\"steel = '{steel[0]}%' AND \"\n",
    "\n",
    "#         elif '-' in cp[3] and cp[3] != '-':\n",
    "#             steel = cp[3].split('-')\n",
    "#             if carbon_bool:\n",
    "#                 where_min_value += f\"(steel like '{steel[0].strip()}%' OR steel like '{steel[-1].strip()}%') AND \"\n",
    "#             where_chelpipe += f\"(steel like '{steel[0].strip()}%' OR steel like '{steel[-1].strip()}%') AND \"\n",
    "#         else:\n",
    "#             if cp[3].strip() in carbon:\n",
    "#                 where_min_value += f\"steel = 'угл' AND \"\n",
    "#             elif carbon_bool:\n",
    "#                 where_min_value += f\"steel like '{cp[3].strip()}%' AND \"\n",
    "#             where_chelpipe += f\"steel like '{cp[3].strip()}%' AND \"\n",
    "    if cp[4]:\n",
    "        if type(cp[4]) == str:\n",
    "            float_wall = float(cp[4].replace(',', '.'))\n",
    "        else:\n",
    "            float_wall = float(cp[4])\n",
    "        where_min_value += f\"wall_min <= {float_wall} AND wall_max >= {float_wall} AND \"\n",
    "        where_chelpipe += f\"wall = {float_wall} AND \"\n",
    "    if cp[5]:\n",
    "        where_min_value += f\"diameter_min <=  {cp[5]} AND  diameter_max >= {cp[5]} AND \"\n",
    "        where_chelpipe += f\"diameter = {cp[5]} AND \"\n",
    "    if cp[8]:\n",
    "        where_chelpipe = f\"WHERE article_id = {cp[8]} AND \"\n",
    "    if cp[6]:\n",
    "        where_min_value += f\"city_id = {cp[6]} AND \"\n",
    "        where_chelpipe += f\"(city_id = {cp[6]} or city_id = 33) AND \"\n",
    "    if cp[13]:\n",
    "        where_chelpipe += f'method_id = {cp[13]} AND '\n",
    "        \n",
    "    where_chelpipe += 'city.id = city_id AND '\n",
    "        \n",
    "    where_min_value = ' '.join(where_min_value.split()[:-1])\n",
    "    where_chelpipe = ' '.join(where_chelpipe.split()[:-1])\n",
    "    \n",
    "    min_value_columns = 'standard, diameter_min, diameter_max, steel, price, wall_min, wall_max'\n",
    "    where_list.append(where_min_value)\n",
    "    min_value = db.select(min_value_columns, 'MinValue', where_min_value)\n",
    "    chelpipe = db.select('price_min, price_max, city.name, standard', 'chelpipe, city', where_chelpipe)\n",
    "#     where_list.append(where_min_value)\n",
    "\n",
    "    row = [None] * 26\n",
    "    if cp[8]:\n",
    "        article = db.select('article', 'articles', 'WHERE id = ?', (cp[8],))[0]\n",
    "        data = [cp[-5], cp[0], cp[-6], cp[-4], article, cp[2], cp[5], cp[4], steel[0] if steel else None]\n",
    "        for i in range(len(data)):\n",
    "            row[i] = data[i]\n",
    "    else:\n",
    "        data = [cp[-5], cp[0], cp[-6], cp[-4], None, cp[2], cp[5], cp[4], steel[0] if steel else None]\n",
    "        for i in range(len(data)):\n",
    "            row[i] = data[i]\n",
    "\n",
    "    if chelpipe:\n",
    "        row[5] = chelpipe[3] if row[5] is None and cp[8] else row[5]\n",
    "        row[9] = None\n",
    "        row[11] = chelpipe[0]\n",
    "        row[12] = chelpipe[1]\n",
    "        row[14] = cp[7] - chelpipe[0]\n",
    "        row[15] = cp[12] - chelpipe[1] if cp[12] and chelpipe[1] else 'н/д'\n",
    "        row[17] = chelpipe[0] > cp[7]\n",
    "        row[18] = chelpipe[1] > cp[12] if cp[12] and chelpipe[1] else 'н/д'\n",
    "    else:\n",
    "        row[9] = 'н/д'\n",
    "        row[11] = 'н/д'\n",
    "        row[12] = 'н/д'\n",
    "        row[14] = 'н/д'\n",
    "        row[15] = 'н/д'\n",
    "        row[17] = 'н/д'\n",
    "        row[18] = 'н/д'\n",
    "\n",
    "    if min_value:\n",
    "        row[10] = min_value[-3]\n",
    "        row[16] = cp[7] - min_value[-3]\n",
    "        row[19] = min_value[-3] > cp[7]\n",
    "        row[20] = min_value[0]\n",
    "        row[21] = min_value[3]\n",
    "        row[22] = str(min_value[1]) + '-' + str(min_value[2])\n",
    "        row[23] = str(min_value[-2]) + '-' + str(min_value[-1])\n",
    "    else:\n",
    "        row[10] = 'н/д'\n",
    "        row[16] = 'н/д'\n",
    "        row[19] = 'н/д'\n",
    "        row[20] = 'н/д'\n",
    "        row[21] = 'н/д'\n",
    "        row[22] = 'н/д'\n",
    "        row[23] = 'н/д'\n",
    "\n",
    "    row[13] = cp[7]\n",
    "    row[24] = cp[12]\n",
    "    row[-1] = cp[-1]\n",
    "    if row[13] <= 50000 or row[13] >= 200000:\n",
    "        anomaly_df.loc[anomaly_iterator] = row\n",
    "        anomaly_iterator += 1\n",
    "    else:\n",
    "        df.loc[iterator] = row               \n",
    "        iterator += 1\n",
    "        \n",
    "    if iterator % 100000 == 0:\n",
    "        with pd.ExcelWriter(f'savefile{iterator//100000}.xlsx', options={'strings_to_urls': False}) as writer:\n",
    "            df.to_excel(writer, index=False, sheet_name='Все данные')\n",
    "        "
   ]
  },
  {
   "cell_type": "code",
   "execution_count": 8,
   "metadata": {},
   "outputs": [],
   "source": [
    "# rigth_header = ['Компания', 'Наименование', 'Регион', 'сайт контрагента', 'НИС', 'Стандарт', 'Диаметр', \n",
    "#                 'Стенка', 'Сталь', 'Тип длины', 'МРЦ', 'Цена ЧТПЗ минимальная', \n",
    "#                 'Цена ЧТПЗ максимальная', 'Цена контрагента минимальная', 'Цена контрагента максимальная', \n",
    "#                 'Отклонение с ЧТПЗ минимальная цена', 'Отклонение с ЧТПЗ максимальная цена',\n",
    "#                 'Отклонение МРЦ/сайт', 'Демпинг с ЧТПЗ минимальная цена', 'Демпинг с ЧТПЗ максимальная цена', \n",
    "#                 'Демпинг МРЦ', 'МРЦ ГОСТ', 'МРЦ сталь', 'МРЦ диаметр', 'МРЦ стенка']\n",
    "# df = df[rigth_header]"
   ]
  },
  {
   "cell_type": "code",
   "execution_count": 15,
   "metadata": {},
   "outputs": [],
   "source": [
    "mrc = df[df['Демпинг МРЦ'] == True]\n",
    "chelpipe = df[(df['Демпинг с ЧТПЗ максимальная цена'] == True) | (df['Демпинг с ЧТПЗ минимальная цена'] == True)]"
   ]
  },
  {
   "cell_type": "code",
   "execution_count": 17,
   "metadata": {},
   "outputs": [],
   "source": [
    "data_doc = ['Наименование - название продукта. Получаем данный столбец из сайта конкурента.',\n",
    "           'Регион - город, указанный на сайте конкурента. Получаем данный столбец из сайта конкурента.'\n",
    "           'сайт контрагента - url адрес товара конкурента.',\n",
    "           'НИС - получается из сравнения признаков товара конкурента (ГОСТ, диаметр, стенка, сталь) и признаков товаров, указанных на нашем сайте. Если НИС пуст - значит соответствий не найдено.',\n",
    "           'Стандарт - ГОСТ товара конкурента. Берется из сайта конкурента (указан не у всех).',\n",
    "           'Диаметр - диаметр товара конкурента. Берется из сайта конкурента (указан не у всех).',\n",
    "           'Стенка - толщина стенки товара конкурента. Берется из сайта конкурента.',\n",
    "           'Сталь - сталь товара конкурента. Берется из сайта конкурента',\n",
    "           'Тип длинны - столбец формируется аналогично столбцу НИС.',\n",
    "           'МРЦ - цена МРЦ. Формируется из таблицы МРЦ',\n",
    "           'Цена наш сайт - цена на аналогичный товар, указанная на нашем сайте. Если в таблице 0 - значит на сайте указано \"по запросу\"',\n",
    "           'Цена контрагента - цена на товар, указанная на сайте конкурента. Если на сайте указано несколько цен - берется наименьшая',\n",
    "           'Отклонение сайт/сайт - разница между товаром контрагента и аналогичным нашим товаром(если такой находится). Рассчитывается по формуле: цена контрагента - цена наш сайт',\n",
    "           'Отклонение сайт/МРЦ - разница между товаром контрагента и аналогичным МРЦ товаром(если такой находится). Рассчитывается по формуле: цена контрагента - МРЦ',\n",
    "           'Демпинг сайт/сайт - столбец, показываюий, является ли цена контрагента меньше нашей цены. Столбец может принимать 3 значения:',\n",
    "           '    ИСТИНА(TRUE) -цена контрагента ниже нашей',\n",
    "           '    ЛОЖЬ(FALSE) - цена контрагента не ниже нашей',\n",
    "           '    н/д - не с чем сравнивать',\n",
    "           'Демпинг МРЦ - столбец, показываюий, является ли цена контрагента меньше цены, указанной в МРЦ. Столбец может принимать 3 значения:',\n",
    "           '    ИСТИНА(TRUE) -цена контрагента ниже МРЦ',\n",
    "           '    ЛОЖЬ(FALSE) - цена контрагента не ниже МРЦ',\n",
    "           '    н/д - не с чем сравнивать',\n",
    "           'МРЦ ГОСТ - ГОСТ, указанный в МРЦ',\n",
    "           'МРЦ сталь - сталь, указанная в МРЦ.',\n",
    "           'МРЦ диаметр - диамерт, указанный в МРЦ. Представлен диапазоном',\n",
    "           'МРЦ стенка - стенка, указанная в МРЦ. Представлена диапазоном. Значения 0-n, где n - число аналогично значению из МРЦ \"до n мм\". Значения n-100, где n - число аналогично значению из МРЦ \"более n мм\".',\n",
    "           'ЧТПЗ регион - регион, указанный на сайте ЧТПЗ. Если совпадает с полем \"Регион\", значит найдено полное совпадение, если не совпадает, то значит совпадение товара в этом регионе не найдено и поиск нашел товар среди всех регионов чтпз. Если \"н/д, то совпадений нет\"']"
   ]
  },
  {
   "cell_type": "code",
   "execution_count": 18,
   "metadata": {},
   "outputs": [
    {
     "name": "stderr",
     "output_type": "stream",
     "text": [
      "100%|██████████| 26/26 [00:00<00:00, 179.79it/s]\n"
     ]
    }
   ],
   "source": [
    "doc = pd.DataFrame(columns = ('Документация',))\n",
    "i = 0\n",
    "for data in tqdm(data_doc):\n",
    "    doc.loc[i] = data\n",
    "    i += 1"
   ]
  },
  {
   "cell_type": "code",
   "execution_count": 19,
   "metadata": {},
   "outputs": [],
   "source": [
    "no_ok = True\n",
    "with pd.ExcelWriter('output02-03-2021.xlsx', options={'strings_to_urls': False}) as writer:\n",
    "    mrc.to_excel(writer, index=False, sheet_name='Отклонения по МРЦ')\n",
    "    chelpipe.to_excel(writer, index=False, sheet_name='Отклонения по сайту')\n",
    "    doc.to_excel(writer, index=False, sheet_name='Документация')\n",
    "    anomaly_df.to_excel(writer, index=False, sheet_name='Аномальные данные')\n",
    "    while no_ok:\n",
    "        try:\n",
    "            df.to_excel(writer, index=False, sheet_name='Все данные')\n",
    "            no_ok = False\n",
    "        except PermissionError:\n",
    "            print(PermissionError)\n",
    "            print('!!!Внимание!!! проблема с записью файла. исправте проблему и нажмите enter')\n",
    "            a = input()"
   ]
  },
  {
   "cell_type": "code",
   "execution_count": null,
   "metadata": {},
   "outputs": [],
   "source": []
  }
 ],
 "metadata": {
  "kernelspec": {
   "display_name": "Python 3",
   "language": "python",
   "name": "python3"
  },
  "language_info": {
   "codemirror_mode": {
    "name": "ipython",
    "version": 3
   },
   "file_extension": ".py",
   "mimetype": "text/x-python",
   "name": "python",
   "nbconvert_exporter": "python",
   "pygments_lexer": "ipython3",
   "version": "3.7.4"
  }
 },
 "nbformat": 4,
 "nbformat_minor": 2
}
