{
 "cells": [
  {
   "cell_type": "code",
   "execution_count": 8,
   "metadata": {},
   "outputs": [],
   "source": [
    "import pandas as pd\n",
    "from tqdm import tqdm\n",
    "from DB_api import db\n",
    "import requests\n",
    "import time"
   ]
  },
  {
   "cell_type": "code",
   "execution_count": 9,
   "metadata": {},
   "outputs": [],
   "source": [
    "mrc_df = pd.read_excel('output21-01-2021.xlsx', sheet_name='Отклонения по МРЦ')"
   ]
  },
  {
   "cell_type": "code",
   "execution_count": 10,
   "metadata": {},
   "outputs": [
    {
     "data": {
      "text/html": [
       "<div>\n",
       "<style scoped>\n",
       "    .dataframe tbody tr th:only-of-type {\n",
       "        vertical-align: middle;\n",
       "    }\n",
       "\n",
       "    .dataframe tbody tr th {\n",
       "        vertical-align: top;\n",
       "    }\n",
       "\n",
       "    .dataframe thead th {\n",
       "        text-align: right;\n",
       "    }\n",
       "</style>\n",
       "<table border=\"1\" class=\"dataframe\">\n",
       "  <thead>\n",
       "    <tr style=\"text-align: right;\">\n",
       "      <th></th>\n",
       "      <th>Компания</th>\n",
       "      <th>Наименование</th>\n",
       "      <th>Регион</th>\n",
       "      <th>сайт контрагента</th>\n",
       "      <th>НИС</th>\n",
       "      <th>Стандарт</th>\n",
       "      <th>Диаметр</th>\n",
       "      <th>Стенка</th>\n",
       "      <th>Сталь</th>\n",
       "      <th>Тип длины</th>\n",
       "      <th>...</th>\n",
       "      <th>Отклонение с ЧТПЗ минимальная цена</th>\n",
       "      <th>Отклонение с ЧТПЗ максимальная цена</th>\n",
       "      <th>Отклонение МРЦ/сайт</th>\n",
       "      <th>Демпинг с ЧТПЗ минимальная цена</th>\n",
       "      <th>Демпинг с ЧТПЗ максимальная цена</th>\n",
       "      <th>Демпинг МРЦ</th>\n",
       "      <th>МРЦ ГОСТ</th>\n",
       "      <th>МРЦ сталь</th>\n",
       "      <th>МРЦ диаметр</th>\n",
       "      <th>МРЦ стенка</th>\n",
       "    </tr>\n",
       "  </thead>\n",
       "  <tbody>\n",
       "    <tr>\n",
       "      <td>0</td>\n",
       "      <td>А Групп</td>\n",
       "      <td>Труба бесшовная г/д</td>\n",
       "      <td>екатеринбург</td>\n",
       "      <td>http://www.agrupp.com/pricelist/?sub_group=3164</td>\n",
       "      <td>NaN</td>\n",
       "      <td>8732 / 8731</td>\n",
       "      <td>32.0</td>\n",
       "      <td>4</td>\n",
       "      <td>20.0</td>\n",
       "      <td>н/д</td>\n",
       "      <td>...</td>\n",
       "      <td>н/д</td>\n",
       "      <td>н/д</td>\n",
       "      <td>-4000.0</td>\n",
       "      <td>н/д</td>\n",
       "      <td>н/д</td>\n",
       "      <td>True</td>\n",
       "      <td>8732-78</td>\n",
       "      <td>угл</td>\n",
       "      <td>32-32</td>\n",
       "      <td>0.0-100.0</td>\n",
       "    </tr>\n",
       "    <tr>\n",
       "      <td>1</td>\n",
       "      <td>А Групп</td>\n",
       "      <td>Труба бесшовная г/д</td>\n",
       "      <td>екатеринбург</td>\n",
       "      <td>http://www.agrupp.com/pricelist/?sub_group=3164</td>\n",
       "      <td>34399.0</td>\n",
       "      <td>8732 / 8731</td>\n",
       "      <td>38.0</td>\n",
       "      <td>3</td>\n",
       "      <td>20.0</td>\n",
       "      <td>НК</td>\n",
       "      <td>...</td>\n",
       "      <td>-4000</td>\n",
       "      <td>н/д</td>\n",
       "      <td>-4000.0</td>\n",
       "      <td>True</td>\n",
       "      <td>н/д</td>\n",
       "      <td>True</td>\n",
       "      <td>8732-78</td>\n",
       "      <td>угл</td>\n",
       "      <td>33-51</td>\n",
       "      <td>0.0-100.0</td>\n",
       "    </tr>\n",
       "    <tr>\n",
       "      <td>2</td>\n",
       "      <td>А Групп</td>\n",
       "      <td>Труба бесшовная г/д</td>\n",
       "      <td>екатеринбург</td>\n",
       "      <td>http://www.agrupp.com/pricelist/?sub_group=3164</td>\n",
       "      <td>34094.0</td>\n",
       "      <td>8732 / 8731</td>\n",
       "      <td>38.0</td>\n",
       "      <td>3</td>\n",
       "      <td>20.0</td>\n",
       "      <td>НД</td>\n",
       "      <td>...</td>\n",
       "      <td>92500</td>\n",
       "      <td>н/д</td>\n",
       "      <td>-4000.0</td>\n",
       "      <td>False</td>\n",
       "      <td>н/д</td>\n",
       "      <td>True</td>\n",
       "      <td>8732-78</td>\n",
       "      <td>угл</td>\n",
       "      <td>33-51</td>\n",
       "      <td>0.0-100.0</td>\n",
       "    </tr>\n",
       "    <tr>\n",
       "      <td>3</td>\n",
       "      <td>А Групп</td>\n",
       "      <td>Труба бесшовная г/д</td>\n",
       "      <td>екатеринбург</td>\n",
       "      <td>http://www.agrupp.com/pricelist/?sub_group=3164</td>\n",
       "      <td>40994.0</td>\n",
       "      <td>8732 / 8731</td>\n",
       "      <td>38.0</td>\n",
       "      <td>3.5</td>\n",
       "      <td>20.0</td>\n",
       "      <td>НК</td>\n",
       "      <td>...</td>\n",
       "      <td>-4000</td>\n",
       "      <td>н/д</td>\n",
       "      <td>-4000.0</td>\n",
       "      <td>True</td>\n",
       "      <td>н/д</td>\n",
       "      <td>True</td>\n",
       "      <td>8732-78</td>\n",
       "      <td>угл</td>\n",
       "      <td>33-51</td>\n",
       "      <td>0.0-100.0</td>\n",
       "    </tr>\n",
       "    <tr>\n",
       "      <td>4</td>\n",
       "      <td>А Групп</td>\n",
       "      <td>Труба бесшовная г/д</td>\n",
       "      <td>екатеринбург</td>\n",
       "      <td>http://www.agrupp.com/pricelist/?sub_group=3164</td>\n",
       "      <td>40993.0</td>\n",
       "      <td>8732 / 8731</td>\n",
       "      <td>38.0</td>\n",
       "      <td>4</td>\n",
       "      <td>20.0</td>\n",
       "      <td>НК</td>\n",
       "      <td>...</td>\n",
       "      <td>-4000</td>\n",
       "      <td>н/д</td>\n",
       "      <td>-4000.0</td>\n",
       "      <td>True</td>\n",
       "      <td>н/д</td>\n",
       "      <td>True</td>\n",
       "      <td>8732-78</td>\n",
       "      <td>угл</td>\n",
       "      <td>33-51</td>\n",
       "      <td>0.0-100.0</td>\n",
       "    </tr>\n",
       "  </tbody>\n",
       "</table>\n",
       "<p>5 rows × 25 columns</p>\n",
       "</div>"
      ],
      "text/plain": [
       "  Компания         Наименование        Регион  \\\n",
       "0  А Групп  Труба бесшовная г/д  екатеринбург   \n",
       "1  А Групп  Труба бесшовная г/д  екатеринбург   \n",
       "2  А Групп  Труба бесшовная г/д  екатеринбург   \n",
       "3  А Групп  Труба бесшовная г/д  екатеринбург   \n",
       "4  А Групп  Труба бесшовная г/д  екатеринбург   \n",
       "\n",
       "                                  сайт контрагента      НИС     Стандарт  \\\n",
       "0  http://www.agrupp.com/pricelist/?sub_group=3164      NaN  8732 / 8731   \n",
       "1  http://www.agrupp.com/pricelist/?sub_group=3164  34399.0  8732 / 8731   \n",
       "2  http://www.agrupp.com/pricelist/?sub_group=3164  34094.0  8732 / 8731   \n",
       "3  http://www.agrupp.com/pricelist/?sub_group=3164  40994.0  8732 / 8731   \n",
       "4  http://www.agrupp.com/pricelist/?sub_group=3164  40993.0  8732 / 8731   \n",
       "\n",
       "   Диаметр Стенка  Сталь Тип длины  ...  Отклонение с ЧТПЗ минимальная цена  \\\n",
       "0     32.0      4   20.0       н/д  ...                                 н/д   \n",
       "1     38.0      3   20.0        НК  ...                               -4000   \n",
       "2     38.0      3   20.0        НД  ...                               92500   \n",
       "3     38.0    3.5   20.0        НК  ...                               -4000   \n",
       "4     38.0      4   20.0        НК  ...                               -4000   \n",
       "\n",
       "  Отклонение с ЧТПЗ максимальная цена Отклонение МРЦ/сайт  \\\n",
       "0                                 н/д             -4000.0   \n",
       "1                                 н/д             -4000.0   \n",
       "2                                 н/д             -4000.0   \n",
       "3                                 н/д             -4000.0   \n",
       "4                                 н/д             -4000.0   \n",
       "\n",
       "   Демпинг с ЧТПЗ минимальная цена  Демпинг с ЧТПЗ максимальная цена  \\\n",
       "0                              н/д                               н/д   \n",
       "1                             True                               н/д   \n",
       "2                            False                               н/д   \n",
       "3                             True                               н/д   \n",
       "4                             True                               н/д   \n",
       "\n",
       "  Демпинг МРЦ МРЦ ГОСТ  МРЦ сталь МРЦ диаметр МРЦ стенка  \n",
       "0        True  8732-78        угл       32-32  0.0-100.0  \n",
       "1        True  8732-78        угл       33-51  0.0-100.0  \n",
       "2        True  8732-78        угл       33-51  0.0-100.0  \n",
       "3        True  8732-78        угл       33-51  0.0-100.0  \n",
       "4        True  8732-78        угл       33-51  0.0-100.0  \n",
       "\n",
       "[5 rows x 25 columns]"
      ]
     },
     "execution_count": 10,
     "metadata": {},
     "output_type": "execute_result"
    }
   ],
   "source": [
    "mrc_df.head()"
   ]
  },
  {
   "cell_type": "code",
   "execution_count": 4,
   "metadata": {},
   "outputs": [
    {
     "data": {
      "text/plain": [
       "'Наименование'"
      ]
     },
     "execution_count": 4,
     "metadata": {},
     "output_type": "execute_result"
    }
   ],
   "source": [
    "mrc_df.columns[1]"
   ]
  },
  {
   "cell_type": "code",
   "execution_count": 5,
   "metadata": {},
   "outputs": [],
   "source": [
    "urls = mrc_df['сайт контрагента'].tolist()"
   ]
  },
  {
   "cell_type": "code",
   "execution_count": 6,
   "metadata": {},
   "outputs": [
    {
     "data": {
      "text/plain": [
       "range(6038, 31838)"
      ]
     },
     "execution_count": 6,
     "metadata": {},
     "output_type": "execute_result"
    }
   ],
   "source": [
    "range(len(urls))[6038:]"
   ]
  },
  {
   "cell_type": "code",
   "execution_count": 7,
   "metadata": {},
   "outputs": [
    {
     "name": "stderr",
     "output_type": "stream",
     "text": [
      "100%|██████████| 25420/25420 [11:35:20<00:00,  1.64s/it]   \n"
     ]
    }
   ],
   "source": [
    "HEADERS = {\n",
    "    'User-Agent' : 'Mozilla/5.0 (Windows NT 6.3; Win64; x64) AppleWebKit/537.36 (KHTML, like Gecko) Chrome/80.0.3987.163 Safari/537.36'\n",
    "    }\n",
    "for url in tqdm(range(len(urls))):\n",
    "    try:\n",
    "        t = requests.get(urls[url], headers = HEADERS).text\n",
    "    except ConnectionError:\n",
    "        time.sleep(60)\n",
    "        t = requests.get(urls[url], headers = HEADERS).text\n",
    "\n",
    "    if str(mrc_df.loc[url]['Стандарт']) != 'nan':\n",
    "        standard_name = str(mrc_df.loc[url]['Стандарт']).replace('\"', '\\'') if '/' not in mrc_df.loc[url]['Стандарт'] else mrc_df.loc[url]['Стандарт'].replace('/', ',').replace('\"', '\\'')\n",
    "    else:\n",
    "        standard_name = 'None'\n",
    "    company_name = mrc_df.loc[url]['Компания'].replace('\"', '\\'').replace('/', '.')\n",
    "    try:\n",
    "        with open(f'..\\\\Отклонения\\\\{company_name}-{standard_name}-{url}.html', 'w') as f:\n",
    "            f.write(t)\n",
    "    except UnicodeEncodeError:\n",
    "        with open(f'..\\\\Отклонения\\\\{company_name}-{standard_name}-{url}.html', 'w', encoding='utf-8') as f:\n",
    "            f.write(t)"
   ]
  },
  {
   "cell_type": "code",
   "execution_count": 15,
   "metadata": {},
   "outputs": [
    {
     "name": "stdout",
     "output_type": "stream",
     "text": [
      "2\n"
     ]
    }
   ],
   "source": [
    "if str(mrc_df.loc[101]['Стандарт']) != 'nan':\n",
    "    print(1)\n",
    "else:\n",
    "    print(2)"
   ]
  },
  {
   "cell_type": "code",
   "execution_count": 14,
   "metadata": {},
   "outputs": [
    {
     "data": {
      "text/plain": [
       "'nan'"
      ]
     },
     "execution_count": 14,
     "metadata": {},
     "output_type": "execute_result"
    }
   ],
   "source": [
    "str(mrc_df.loc[101]['Стандарт'])"
   ]
  },
  {
   "cell_type": "code",
   "execution_count": null,
   "metadata": {},
   "outputs": [],
   "source": []
  }
 ],
 "metadata": {
  "kernelspec": {
   "display_name": "Python 3",
   "language": "python",
   "name": "python3"
  },
  "language_info": {
   "codemirror_mode": {
    "name": "ipython",
    "version": 3
   },
   "file_extension": ".py",
   "mimetype": "text/x-python",
   "name": "python",
   "nbconvert_exporter": "python",
   "pygments_lexer": "ipython3",
   "version": "3.7.4"
  }
 },
 "nbformat": 4,
 "nbformat_minor": 2
}
