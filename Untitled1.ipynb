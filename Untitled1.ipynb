{
  "nbformat": 4,
  "nbformat_minor": 0,
  "metadata": {
    "colab": {
      "name": "Untitled1.ipynb",
      "provenance": [],
      "collapsed_sections": []
    },
    "kernelspec": {
      "name": "python3",
      "display_name": "Python 3"
    }
  },
  "cells": [
    {
      "cell_type": "code",
      "metadata": {
        "id": "GETLwESIMtbu"
      },
      "source": [
        "!pip install selenium"
      ],
      "execution_count": null,
      "outputs": []
    },
    {
      "cell_type": "code",
      "metadata": {
        "id": "ZJ-KvtVDKy7X"
      },
      "source": [
        "from bs4 import BeautifulSoup\n",
        "import json\n",
        "from selenium import webdriver\n",
        "from selenium import common\n",
        "from tqdm import tqdm\n",
        "from parsing import get_html"
      ],
      "execution_count": 10,
      "outputs": []
    },
    {
      "cell_type": "code",
      "metadata": {
        "id": "g8Jbk5aRM6TY",
        "outputId": "89f252c3-4c09-4ecf-a605-04f1c81833f3",
        "colab": {
          "base_uri": "https://localhost:8080/",
          "height": 504
        }
      },
      "source": [
        "options = webdriver.ChromeOptions()\n",
        "options.add_argument('--headless')\n",
        "browser = webdriver.Chrome(chrome_options=options)"
      ],
      "execution_count": 11,
      "outputs": [
        {
          "output_type": "stream",
          "text": [
            "/usr/local/lib/python3.6/dist-packages/ipykernel_launcher.py:3: DeprecationWarning: use options instead of chrome_options\n",
            "  This is separate from the ipykernel package so we can avoid doing imports until\n"
          ],
          "name": "stderr"
        },
        {
          "output_type": "error",
          "ename": "WebDriverException",
          "evalue": "ignored",
          "traceback": [
            "\u001b[0;31m---------------------------------------------------------------------------\u001b[0m",
            "\u001b[0;31mFileNotFoundError\u001b[0m                         Traceback (most recent call last)",
            "\u001b[0;32m/usr/local/lib/python3.6/dist-packages/selenium/webdriver/common/service.py\u001b[0m in \u001b[0;36mstart\u001b[0;34m(self)\u001b[0m\n\u001b[1;32m     75\u001b[0m                                             \u001b[0mstderr\u001b[0m\u001b[0;34m=\u001b[0m\u001b[0mself\u001b[0m\u001b[0;34m.\u001b[0m\u001b[0mlog_file\u001b[0m\u001b[0;34m,\u001b[0m\u001b[0;34m\u001b[0m\u001b[0;34m\u001b[0m\u001b[0m\n\u001b[0;32m---> 76\u001b[0;31m                                             stdin=PIPE)\n\u001b[0m\u001b[1;32m     77\u001b[0m         \u001b[0;32mexcept\u001b[0m \u001b[0mTypeError\u001b[0m\u001b[0;34m:\u001b[0m\u001b[0;34m\u001b[0m\u001b[0;34m\u001b[0m\u001b[0m\n",
            "\u001b[0;32m/usr/lib/python3.6/subprocess.py\u001b[0m in \u001b[0;36m__init__\u001b[0;34m(self, args, bufsize, executable, stdin, stdout, stderr, preexec_fn, close_fds, shell, cwd, env, universal_newlines, startupinfo, creationflags, restore_signals, start_new_session, pass_fds, encoding, errors)\u001b[0m\n\u001b[1;32m    728\u001b[0m                                 \u001b[0merrread\u001b[0m\u001b[0;34m,\u001b[0m \u001b[0merrwrite\u001b[0m\u001b[0;34m,\u001b[0m\u001b[0;34m\u001b[0m\u001b[0;34m\u001b[0m\u001b[0m\n\u001b[0;32m--> 729\u001b[0;31m                                 restore_signals, start_new_session)\n\u001b[0m\u001b[1;32m    730\u001b[0m         \u001b[0;32mexcept\u001b[0m\u001b[0;34m:\u001b[0m\u001b[0;34m\u001b[0m\u001b[0;34m\u001b[0m\u001b[0m\n",
            "\u001b[0;32m/usr/lib/python3.6/subprocess.py\u001b[0m in \u001b[0;36m_execute_child\u001b[0;34m(self, args, executable, preexec_fn, close_fds, pass_fds, cwd, env, startupinfo, creationflags, shell, p2cread, p2cwrite, c2pread, c2pwrite, errread, errwrite, restore_signals, start_new_session)\u001b[0m\n\u001b[1;32m   1363\u001b[0m                             \u001b[0merr_msg\u001b[0m \u001b[0;34m+=\u001b[0m \u001b[0;34m': '\u001b[0m \u001b[0;34m+\u001b[0m \u001b[0mrepr\u001b[0m\u001b[0;34m(\u001b[0m\u001b[0merr_filename\u001b[0m\u001b[0;34m)\u001b[0m\u001b[0;34m\u001b[0m\u001b[0;34m\u001b[0m\u001b[0m\n\u001b[0;32m-> 1364\u001b[0;31m                     \u001b[0;32mraise\u001b[0m \u001b[0mchild_exception_type\u001b[0m\u001b[0;34m(\u001b[0m\u001b[0merrno_num\u001b[0m\u001b[0;34m,\u001b[0m \u001b[0merr_msg\u001b[0m\u001b[0;34m,\u001b[0m \u001b[0merr_filename\u001b[0m\u001b[0;34m)\u001b[0m\u001b[0;34m\u001b[0m\u001b[0;34m\u001b[0m\u001b[0m\n\u001b[0m\u001b[1;32m   1365\u001b[0m                 \u001b[0;32mraise\u001b[0m \u001b[0mchild_exception_type\u001b[0m\u001b[0;34m(\u001b[0m\u001b[0merr_msg\u001b[0m\u001b[0;34m)\u001b[0m\u001b[0;34m\u001b[0m\u001b[0;34m\u001b[0m\u001b[0m\n",
            "\u001b[0;31mFileNotFoundError\u001b[0m: [Errno 2] No such file or directory: 'chromedriver': 'chromedriver'",
            "\nDuring handling of the above exception, another exception occurred:\n",
            "\u001b[0;31mWebDriverException\u001b[0m                        Traceback (most recent call last)",
            "\u001b[0;32m<ipython-input-11-1d4cb56ab39b>\u001b[0m in \u001b[0;36m<module>\u001b[0;34m()\u001b[0m\n\u001b[1;32m      1\u001b[0m \u001b[0moptions\u001b[0m \u001b[0;34m=\u001b[0m \u001b[0mwebdriver\u001b[0m\u001b[0;34m.\u001b[0m\u001b[0mChromeOptions\u001b[0m\u001b[0;34m(\u001b[0m\u001b[0;34m)\u001b[0m\u001b[0;34m\u001b[0m\u001b[0;34m\u001b[0m\u001b[0m\n\u001b[1;32m      2\u001b[0m \u001b[0moptions\u001b[0m\u001b[0;34m.\u001b[0m\u001b[0madd_argument\u001b[0m\u001b[0;34m(\u001b[0m\u001b[0;34m'--headless'\u001b[0m\u001b[0;34m)\u001b[0m\u001b[0;34m\u001b[0m\u001b[0;34m\u001b[0m\u001b[0m\n\u001b[0;32m----> 3\u001b[0;31m \u001b[0mbrowser\u001b[0m \u001b[0;34m=\u001b[0m \u001b[0mwebdriver\u001b[0m\u001b[0;34m.\u001b[0m\u001b[0mChrome\u001b[0m\u001b[0;34m(\u001b[0m\u001b[0mchrome_options\u001b[0m\u001b[0;34m=\u001b[0m\u001b[0moptions\u001b[0m\u001b[0;34m)\u001b[0m\u001b[0;34m\u001b[0m\u001b[0;34m\u001b[0m\u001b[0m\n\u001b[0m",
            "\u001b[0;32m/usr/local/lib/python3.6/dist-packages/selenium/webdriver/chrome/webdriver.py\u001b[0m in \u001b[0;36m__init__\u001b[0;34m(self, executable_path, port, options, service_args, desired_capabilities, service_log_path, chrome_options, keep_alive)\u001b[0m\n\u001b[1;32m     71\u001b[0m             \u001b[0mservice_args\u001b[0m\u001b[0;34m=\u001b[0m\u001b[0mservice_args\u001b[0m\u001b[0;34m,\u001b[0m\u001b[0;34m\u001b[0m\u001b[0;34m\u001b[0m\u001b[0m\n\u001b[1;32m     72\u001b[0m             log_path=service_log_path)\n\u001b[0;32m---> 73\u001b[0;31m         \u001b[0mself\u001b[0m\u001b[0;34m.\u001b[0m\u001b[0mservice\u001b[0m\u001b[0;34m.\u001b[0m\u001b[0mstart\u001b[0m\u001b[0;34m(\u001b[0m\u001b[0;34m)\u001b[0m\u001b[0;34m\u001b[0m\u001b[0;34m\u001b[0m\u001b[0m\n\u001b[0m\u001b[1;32m     74\u001b[0m \u001b[0;34m\u001b[0m\u001b[0m\n\u001b[1;32m     75\u001b[0m         \u001b[0;32mtry\u001b[0m\u001b[0;34m:\u001b[0m\u001b[0;34m\u001b[0m\u001b[0;34m\u001b[0m\u001b[0m\n",
            "\u001b[0;32m/usr/local/lib/python3.6/dist-packages/selenium/webdriver/common/service.py\u001b[0m in \u001b[0;36mstart\u001b[0;34m(self)\u001b[0m\n\u001b[1;32m     81\u001b[0m                 raise WebDriverException(\n\u001b[1;32m     82\u001b[0m                     \"'%s' executable needs to be in PATH. %s\" % (\n\u001b[0;32m---> 83\u001b[0;31m                         os.path.basename(self.path), self.start_error_message)\n\u001b[0m\u001b[1;32m     84\u001b[0m                 )\n\u001b[1;32m     85\u001b[0m             \u001b[0;32melif\u001b[0m \u001b[0merr\u001b[0m\u001b[0;34m.\u001b[0m\u001b[0merrno\u001b[0m \u001b[0;34m==\u001b[0m \u001b[0merrno\u001b[0m\u001b[0;34m.\u001b[0m\u001b[0mEACCES\u001b[0m\u001b[0;34m:\u001b[0m\u001b[0;34m\u001b[0m\u001b[0;34m\u001b[0m\u001b[0m\n",
            "\u001b[0;31mWebDriverException\u001b[0m: Message: 'chromedriver' executable needs to be in PATH. Please see https://sites.google.com/a/chromium.org/chromedriver/home\n"
          ]
        }
      ]
    },
    {
      "cell_type": "code",
      "metadata": {
        "id": "8GPAU5JBI4G9"
      },
      "source": [
        "\n",
        "\n",
        "\n",
        "options = webdriver.ChromeOptions()\n",
        "options.add_argument('--headless')\n",
        "browser = webdriver.Chrome(chrome_options=options)\n",
        "\n",
        "base_url = 'https://market.chelpipe.ru/'\n",
        "base_html = get_html(base_url)\n",
        "\n",
        "browser.implicitly_wait(0.5)\n",
        "browser.get(base_url)\n",
        "div = browser.find_element_by_class_name('main__catalog')\n",
        "\n",
        "div_html = div.get_attribute('outerHTML')\n",
        "soup = BeautifulSoup(div_html, 'lxml')\n",
        "aas = soup.find_all('a', {'class': 'catalog-list-item__link'})\n",
        "main_list = list()\n",
        "for a in tqdm(aas):\n",
        "    page = 1\n",
        "    new_url = (base_url + a.get('href')).replace('//', '/')\n",
        "    browser.get(new_url)\n",
        "    while True:\n",
        "        try:\n",
        "            table = browser.find_element_by_class_name('table__main')\n",
        "        except:\n",
        "            break\n",
        "\n",
        "        table_html = table.get_attribute('outerHTML')\n",
        "        table_soup = BeautifulSoup(table_html, 'lxml')\n",
        "        div_row = table_soup.find_all('div', {'class': 'table-row'})\n",
        "        for dr in tqdm(div_row):\n",
        "\n",
        "            page_product = dr.find('a').get('href')\n",
        "\n",
        "            try:\n",
        "                browser.get((base_url + page_product).replace('//', '/'))\n",
        "            except common.exceptions.TimeoutException:\n",
        "                print('TimeoutException')\n",
        "                print((base_url + page_product).replace('//', '/'))\n",
        "                browser.get((base_url + page_product).replace('//', '/'))\n",
        "            try:\n",
        "                product_page = browser.find_element_by_class_name('product-card-main__stats').get_attribute('outerHTML')\n",
        "            except common.exceptions.NoSuchElementException:\n",
        "                print('NoSuchElementException')\n",
        "                print(browser.current_url)\n",
        "                product_page = browser.find_element_by_class_name('product-card-main__stats').get_attribute('outerHTML')\n",
        "            cart = BeautifulSoup(product_page, 'lxml')\n",
        "            data = cart.find_all('div', {'class': 'product-card-main__stats-item-value'})\n",
        "            article = data[-1].text\n",
        "            type_of_length = data[-2].text.strip()\n",
        "\n",
        "            row = dr.find_all('div', {'class': 'table-row__item-value'})\n",
        "\n",
        "            for_tube = dr.find('div', {'class': 'table-row__item-value-secondary'})\n",
        "            type_tube = for_tube.find_all('div')[-1].text.strip()\n",
        "            standard = dr.find('div', {'class': 'table-row__item-value-primary'}).text.split(',')\n",
        "            steel = row[0].text\n",
        "            diameter = float(row[1].text.split('/')[0].strip())\n",
        "            wall = float(row[2].text)\n",
        "            region = row[3].text\n",
        "            a_r = row[4].find('span').text.split('/')\n",
        "\n",
        "            try:\n",
        "                availability = float(a_r[0].strip())\n",
        "            except ValueError:\n",
        "                availability = 0\n",
        "\n",
        "            try:\n",
        "                if len(a_r) > 1:\n",
        "                    reserve = float(a_r[-1].strip())\n",
        "                else:\n",
        "                    reserve = 0\n",
        "\n",
        "            except ValueError:\n",
        "                raise ValueError()\n",
        "\n",
        "            try:\n",
        "                price = float(row[5].text.replace(u'\\xa0', u'').replace('i', ''))\n",
        "            except ValueError:\n",
        "                price = 0\n",
        "\n",
        "            for s in standard:\n",
        "                main_list.append({'type_tube': type_tube, 'standard': s.replace('\\n', '').strip(), 'steel': steel,\n",
        "                                  'diameter': diameter, 'wall': wall, 'region': region,\n",
        "                                  'availability': availability, 'reserve': reserve,\n",
        "                                  'price': price, 'article': article, 'type_of_length': type_of_length})\n",
        "\n",
        "        page += 1\n",
        "        browser.get(new_url + f'?PAGEN_1={page}')\n",
        "\n",
        "json_list = json.dumps(main_list,  ensure_ascii=False).replace('},', '},\\n')\n",
        "with open('chelpipe2.json', \"w\",  encoding='utf-8') as file:\n",
        "    file.write(json_list)\n",
        "browser.quit()\n"
      ],
      "execution_count": null,
      "outputs": []
    }
  ]
}