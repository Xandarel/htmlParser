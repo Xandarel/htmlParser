{
  "nbformat": 4,
  "nbformat_minor": 0,
  "metadata": {
    "colab": {
      "name": "truby_bolshogo_diametra.ipynb",
      "provenance": []
    },
    "kernelspec": {
      "display_name": "Python 3",
      "language": "python",
      "name": "python3"
    },
    "language_info": {
      "codemirror_mode": {
        "name": "ipython",
        "version": 3
      },
      "file_extension": ".py",
      "mimetype": "text/x-python",
      "name": "python",
      "nbconvert_exporter": "python",
      "pygments_lexer": "ipython3",
      "version": "3.7.4"
    }
  },
  "cells": [
    {
      "cell_type": "code",
      "metadata": {
        "id": "Z22UzwjRiqCu",
        "colab": {
          "base_uri": "https://localhost:8080/"
        },
        "outputId": "1311c019-f08c-415e-f435-4179ad2798e8"
      },
      "source": [
        "!pip install selenium\n",
        "!apt-get update # to update ubuntu to correctly run apt install\n",
        "!apt install chromium-chromedriver\n",
        "!cp /usr/lib/chromium-browser/chromedriver /usr/bin\n",
        "import sys\n",
        "sys.path.insert(0,'/usr/lib/chromium-browser/chromedriver')"
      ],
      "execution_count": 1,
      "outputs": [
        {
          "output_type": "stream",
          "text": [
            "Collecting selenium\n",
            "\u001b[?25l  Downloading https://files.pythonhosted.org/packages/80/d6/4294f0b4bce4de0abf13e17190289f9d0613b0a44e5dd6a7f5ca98459853/selenium-3.141.0-py2.py3-none-any.whl (904kB)\n",
            "\r\u001b[K     |▍                               | 10kB 17.1MB/s eta 0:00:01\r\u001b[K     |▊                               | 20kB 10.5MB/s eta 0:00:01\r\u001b[K     |█                               | 30kB 7.9MB/s eta 0:00:01\r\u001b[K     |█▌                              | 40kB 7.3MB/s eta 0:00:01\r\u001b[K     |█▉                              | 51kB 4.3MB/s eta 0:00:01\r\u001b[K     |██▏                             | 61kB 4.9MB/s eta 0:00:01\r\u001b[K     |██▌                             | 71kB 5.0MB/s eta 0:00:01\r\u001b[K     |███                             | 81kB 5.2MB/s eta 0:00:01\r\u001b[K     |███▎                            | 92kB 5.5MB/s eta 0:00:01\r\u001b[K     |███▋                            | 102kB 5.4MB/s eta 0:00:01\r\u001b[K     |████                            | 112kB 5.4MB/s eta 0:00:01\r\u001b[K     |████▍                           | 122kB 5.4MB/s eta 0:00:01\r\u001b[K     |████▊                           | 133kB 5.4MB/s eta 0:00:01\r\u001b[K     |█████                           | 143kB 5.4MB/s eta 0:00:01\r\u001b[K     |█████▍                          | 153kB 5.4MB/s eta 0:00:01\r\u001b[K     |█████▉                          | 163kB 5.4MB/s eta 0:00:01\r\u001b[K     |██████▏                         | 174kB 5.4MB/s eta 0:00:01\r\u001b[K     |██████▌                         | 184kB 5.4MB/s eta 0:00:01\r\u001b[K     |██████▉                         | 194kB 5.4MB/s eta 0:00:01\r\u001b[K     |███████▎                        | 204kB 5.4MB/s eta 0:00:01\r\u001b[K     |███████▋                        | 215kB 5.4MB/s eta 0:00:01\r\u001b[K     |████████                        | 225kB 5.4MB/s eta 0:00:01\r\u001b[K     |████████▎                       | 235kB 5.4MB/s eta 0:00:01\r\u001b[K     |████████▊                       | 245kB 5.4MB/s eta 0:00:01\r\u001b[K     |█████████                       | 256kB 5.4MB/s eta 0:00:01\r\u001b[K     |█████████▍                      | 266kB 5.4MB/s eta 0:00:01\r\u001b[K     |█████████▉                      | 276kB 5.4MB/s eta 0:00:01\r\u001b[K     |██████████▏                     | 286kB 5.4MB/s eta 0:00:01\r\u001b[K     |██████████▌                     | 296kB 5.4MB/s eta 0:00:01\r\u001b[K     |██████████▉                     | 307kB 5.4MB/s eta 0:00:01\r\u001b[K     |███████████▎                    | 317kB 5.4MB/s eta 0:00:01\r\u001b[K     |███████████▋                    | 327kB 5.4MB/s eta 0:00:01\r\u001b[K     |████████████                    | 337kB 5.4MB/s eta 0:00:01\r\u001b[K     |████████████▎                   | 348kB 5.4MB/s eta 0:00:01\r\u001b[K     |████████████▊                   | 358kB 5.4MB/s eta 0:00:01\r\u001b[K     |█████████████                   | 368kB 5.4MB/s eta 0:00:01\r\u001b[K     |█████████████▍                  | 378kB 5.4MB/s eta 0:00:01\r\u001b[K     |█████████████▊                  | 389kB 5.4MB/s eta 0:00:01\r\u001b[K     |██████████████▏                 | 399kB 5.4MB/s eta 0:00:01\r\u001b[K     |██████████████▌                 | 409kB 5.4MB/s eta 0:00:01\r\u001b[K     |██████████████▉                 | 419kB 5.4MB/s eta 0:00:01\r\u001b[K     |███████████████▏                | 430kB 5.4MB/s eta 0:00:01\r\u001b[K     |███████████████▋                | 440kB 5.4MB/s eta 0:00:01\r\u001b[K     |████████████████                | 450kB 5.4MB/s eta 0:00:01\r\u001b[K     |████████████████▎               | 460kB 5.4MB/s eta 0:00:01\r\u001b[K     |████████████████▋               | 471kB 5.4MB/s eta 0:00:01\r\u001b[K     |█████████████████               | 481kB 5.4MB/s eta 0:00:01\r\u001b[K     |█████████████████▍              | 491kB 5.4MB/s eta 0:00:01\r\u001b[K     |█████████████████▊              | 501kB 5.4MB/s eta 0:00:01\r\u001b[K     |██████████████████▏             | 512kB 5.4MB/s eta 0:00:01\r\u001b[K     |██████████████████▌             | 522kB 5.4MB/s eta 0:00:01\r\u001b[K     |██████████████████▉             | 532kB 5.4MB/s eta 0:00:01\r\u001b[K     |███████████████████▏            | 542kB 5.4MB/s eta 0:00:01\r\u001b[K     |███████████████████▋            | 552kB 5.4MB/s eta 0:00:01\r\u001b[K     |████████████████████            | 563kB 5.4MB/s eta 0:00:01\r\u001b[K     |████████████████████▎           | 573kB 5.4MB/s eta 0:00:01\r\u001b[K     |████████████████████▋           | 583kB 5.4MB/s eta 0:00:01\r\u001b[K     |█████████████████████           | 593kB 5.4MB/s eta 0:00:01\r\u001b[K     |█████████████████████▍          | 604kB 5.4MB/s eta 0:00:01\r\u001b[K     |█████████████████████▊          | 614kB 5.4MB/s eta 0:00:01\r\u001b[K     |██████████████████████          | 624kB 5.4MB/s eta 0:00:01\r\u001b[K     |██████████████████████▌         | 634kB 5.4MB/s eta 0:00:01\r\u001b[K     |██████████████████████▉         | 645kB 5.4MB/s eta 0:00:01\r\u001b[K     |███████████████████████▏        | 655kB 5.4MB/s eta 0:00:01\r\u001b[K     |███████████████████████▌        | 665kB 5.4MB/s eta 0:00:01\r\u001b[K     |████████████████████████        | 675kB 5.4MB/s eta 0:00:01\r\u001b[K     |████████████████████████▎       | 686kB 5.4MB/s eta 0:00:01\r\u001b[K     |████████████████████████▋       | 696kB 5.4MB/s eta 0:00:01\r\u001b[K     |█████████████████████████       | 706kB 5.4MB/s eta 0:00:01\r\u001b[K     |█████████████████████████▍      | 716kB 5.4MB/s eta 0:00:01\r\u001b[K     |█████████████████████████▊      | 727kB 5.4MB/s eta 0:00:01\r\u001b[K     |██████████████████████████      | 737kB 5.4MB/s eta 0:00:01\r\u001b[K     |██████████████████████████▍     | 747kB 5.4MB/s eta 0:00:01\r\u001b[K     |██████████████████████████▉     | 757kB 5.4MB/s eta 0:00:01\r\u001b[K     |███████████████████████████▏    | 768kB 5.4MB/s eta 0:00:01\r\u001b[K     |███████████████████████████▌    | 778kB 5.4MB/s eta 0:00:01\r\u001b[K     |████████████████████████████    | 788kB 5.4MB/s eta 0:00:01\r\u001b[K     |████████████████████████████▎   | 798kB 5.4MB/s eta 0:00:01\r\u001b[K     |████████████████████████████▋   | 808kB 5.4MB/s eta 0:00:01\r\u001b[K     |█████████████████████████████   | 819kB 5.4MB/s eta 0:00:01\r\u001b[K     |█████████████████████████████▍  | 829kB 5.4MB/s eta 0:00:01\r\u001b[K     |█████████████████████████████▊  | 839kB 5.4MB/s eta 0:00:01\r\u001b[K     |██████████████████████████████  | 849kB 5.4MB/s eta 0:00:01\r\u001b[K     |██████████████████████████████▍ | 860kB 5.4MB/s eta 0:00:01\r\u001b[K     |██████████████████████████████▉ | 870kB 5.4MB/s eta 0:00:01\r\u001b[K     |███████████████████████████████▏| 880kB 5.4MB/s eta 0:00:01\r\u001b[K     |███████████████████████████████▌| 890kB 5.4MB/s eta 0:00:01\r\u001b[K     |███████████████████████████████▉| 901kB 5.4MB/s eta 0:00:01\r\u001b[K     |████████████████████████████████| 911kB 5.4MB/s \n",
            "\u001b[?25hRequirement already satisfied: urllib3 in /usr/local/lib/python3.6/dist-packages (from selenium) (1.24.3)\n",
            "Installing collected packages: selenium\n",
            "Successfully installed selenium-3.141.0\n",
            "Ign:1 https://developer.download.nvidia.com/compute/cuda/repos/ubuntu1804/x86_64  InRelease\n",
            "Get:2 http://security.ubuntu.com/ubuntu bionic-security InRelease [88.7 kB]\n",
            "Get:3 http://ppa.launchpad.net/c2d4u.team/c2d4u4.0+/ubuntu bionic InRelease [15.9 kB]\n",
            "Ign:4 https://developer.download.nvidia.com/compute/machine-learning/repos/ubuntu1804/x86_64  InRelease\n",
            "Get:5 https://cloud.r-project.org/bin/linux/ubuntu bionic-cran40/ InRelease [3,626 B]\n",
            "Hit:6 http://archive.ubuntu.com/ubuntu bionic InRelease\n",
            "Hit:7 https://developer.download.nvidia.com/compute/cuda/repos/ubuntu1804/x86_64  Release\n",
            "Get:8 https://developer.download.nvidia.com/compute/machine-learning/repos/ubuntu1804/x86_64  Release [564 B]\n",
            "Get:9 https://developer.download.nvidia.com/compute/machine-learning/repos/ubuntu1804/x86_64  Release.gpg [833 B]\n",
            "Get:10 http://archive.ubuntu.com/ubuntu bionic-updates InRelease [88.7 kB]\n",
            "Hit:11 http://ppa.launchpad.net/cran/libgit2/ubuntu bionic InRelease\n",
            "Get:12 https://cloud.r-project.org/bin/linux/ubuntu bionic-cran40/ Packages [43.2 kB]\n",
            "Get:13 http://archive.ubuntu.com/ubuntu bionic-backports InRelease [74.6 kB]\n",
            "Get:14 http://ppa.launchpad.net/graphics-drivers/ppa/ubuntu bionic InRelease [21.3 kB]\n",
            "Get:16 https://developer.download.nvidia.com/compute/machine-learning/repos/ubuntu1804/x86_64  Packages [66.5 kB]\n",
            "Get:17 http://ppa.launchpad.net/c2d4u.team/c2d4u4.0+/ubuntu bionic/main Sources [1,707 kB]\n",
            "Get:18 http://security.ubuntu.com/ubuntu bionic-security/universe amd64 Packages [1,376 kB]\n",
            "Get:19 http://archive.ubuntu.com/ubuntu bionic-updates/main amd64 Packages [2,296 kB]\n",
            "Get:20 http://security.ubuntu.com/ubuntu bionic-security/restricted amd64 Packages [261 kB]\n",
            "Get:21 http://security.ubuntu.com/ubuntu bionic-security/main amd64 Packages [1,869 kB]\n",
            "Get:22 http://ppa.launchpad.net/c2d4u.team/c2d4u4.0+/ubuntu bionic/main amd64 Packages [874 kB]\n",
            "Get:23 http://archive.ubuntu.com/ubuntu bionic-updates/restricted amd64 Packages [304 kB]\n",
            "Get:24 http://archive.ubuntu.com/ubuntu bionic-updates/universe amd64 Packages [2,140 kB]\n",
            "Get:25 http://archive.ubuntu.com/ubuntu bionic-updates/multiverse amd64 Packages [45.6 kB]\n",
            "Get:26 http://ppa.launchpad.net/graphics-drivers/ppa/ubuntu bionic/main amd64 Packages [49.2 kB]\n",
            "Fetched 11.3 MB in 3s (3,641 kB/s)\n",
            "Reading package lists... Done\n",
            "Reading package lists... Done\n",
            "Building dependency tree       \n",
            "Reading state information... Done\n",
            "The following additional packages will be installed:\n",
            "  chromium-browser chromium-browser-l10n chromium-codecs-ffmpeg-extra\n",
            "Suggested packages:\n",
            "  webaccounts-chromium-extension unity-chromium-extension adobe-flashplugin\n",
            "The following NEW packages will be installed:\n",
            "  chromium-browser chromium-browser-l10n chromium-chromedriver\n",
            "  chromium-codecs-ffmpeg-extra\n",
            "0 upgraded, 4 newly installed, 0 to remove and 39 not upgraded.\n",
            "Need to get 81.0 MB of archives.\n",
            "After this operation, 273 MB of additional disk space will be used.\n",
            "Get:1 http://archive.ubuntu.com/ubuntu bionic-updates/universe amd64 chromium-codecs-ffmpeg-extra amd64 87.0.4280.66-0ubuntu0.18.04.1 [1,122 kB]\n",
            "Get:2 http://archive.ubuntu.com/ubuntu bionic-updates/universe amd64 chromium-browser amd64 87.0.4280.66-0ubuntu0.18.04.1 [71.7 MB]\n",
            "Get:3 http://archive.ubuntu.com/ubuntu bionic-updates/universe amd64 chromium-browser-l10n all 87.0.4280.66-0ubuntu0.18.04.1 [3,716 kB]\n",
            "Get:4 http://archive.ubuntu.com/ubuntu bionic-updates/universe amd64 chromium-chromedriver amd64 87.0.4280.66-0ubuntu0.18.04.1 [4,488 kB]\n",
            "Fetched 81.0 MB in 3s (23.5 MB/s)\n",
            "Selecting previously unselected package chromium-codecs-ffmpeg-extra.\n",
            "(Reading database ... 145483 files and directories currently installed.)\n",
            "Preparing to unpack .../chromium-codecs-ffmpeg-extra_87.0.4280.66-0ubuntu0.18.04.1_amd64.deb ...\n",
            "Unpacking chromium-codecs-ffmpeg-extra (87.0.4280.66-0ubuntu0.18.04.1) ...\n",
            "Selecting previously unselected package chromium-browser.\n",
            "Preparing to unpack .../chromium-browser_87.0.4280.66-0ubuntu0.18.04.1_amd64.deb ...\n",
            "Unpacking chromium-browser (87.0.4280.66-0ubuntu0.18.04.1) ...\n",
            "Selecting previously unselected package chromium-browser-l10n.\n",
            "Preparing to unpack .../chromium-browser-l10n_87.0.4280.66-0ubuntu0.18.04.1_all.deb ...\n",
            "Unpacking chromium-browser-l10n (87.0.4280.66-0ubuntu0.18.04.1) ...\n",
            "Selecting previously unselected package chromium-chromedriver.\n",
            "Preparing to unpack .../chromium-chromedriver_87.0.4280.66-0ubuntu0.18.04.1_amd64.deb ...\n",
            "Unpacking chromium-chromedriver (87.0.4280.66-0ubuntu0.18.04.1) ...\n",
            "Setting up chromium-codecs-ffmpeg-extra (87.0.4280.66-0ubuntu0.18.04.1) ...\n",
            "Setting up chromium-browser (87.0.4280.66-0ubuntu0.18.04.1) ...\n",
            "update-alternatives: using /usr/bin/chromium-browser to provide /usr/bin/x-www-browser (x-www-browser) in auto mode\n",
            "update-alternatives: using /usr/bin/chromium-browser to provide /usr/bin/gnome-www-browser (gnome-www-browser) in auto mode\n",
            "Setting up chromium-chromedriver (87.0.4280.66-0ubuntu0.18.04.1) ...\n",
            "Setting up chromium-browser-l10n (87.0.4280.66-0ubuntu0.18.04.1) ...\n",
            "Processing triggers for hicolor-icon-theme (0.17-2) ...\n",
            "Processing triggers for mime-support (3.60ubuntu1) ...\n",
            "Processing triggers for man-db (2.8.3-2ubuntu0.1) ...\n",
            "cp: '/usr/lib/chromium-browser/chromedriver' and '/usr/bin/chromedriver' are the same file\n"
          ],
          "name": "stdout"
        }
      ]
    },
    {
      "cell_type": "code",
      "metadata": {
        "id": "LcoLzcVEiulb"
      },
      "source": [
        "from bs4 import BeautifulSoup\n",
        "import json\n",
        "from selenium import webdriver\n",
        "from selenium import common\n",
        "from tqdm import tqdm\n",
        "from parsing import get_html"
      ],
      "execution_count": 3,
      "outputs": []
    },
    {
      "cell_type": "code",
      "metadata": {
        "colab": {
          "base_uri": "https://localhost:8080/"
        },
        "id": "yJvQ1M4ziv70",
        "outputId": "2f4f2a49-a806-45fc-f12f-3236898d8ab5"
      },
      "source": [
        "chrome_options = webdriver.ChromeOptions()\n",
        "chrome_options.add_argument('--headless')\n",
        "chrome_options.add_argument('--no-sandbox')\n",
        "chrome_options.add_argument('--disable-dev-shm-usage')\n",
        "browser = webdriver.Chrome('chromedriver',chrome_options=chrome_options)"
      ],
      "execution_count": 4,
      "outputs": [
        {
          "output_type": "stream",
          "text": [
            "/usr/local/lib/python3.6/dist-packages/ipykernel_launcher.py:5: DeprecationWarning: use options instead of chrome_options\n",
            "  \"\"\"\n"
          ],
          "name": "stderr"
        }
      ]
    },
    {
      "cell_type": "code",
      "metadata": {
        "colab": {
          "base_uri": "https://localhost:8080/"
        },
        "id": "cQ6wpZQGix-B",
        "outputId": "44e0a885-4ca4-470f-a3cf-68a39dca7a56"
      },
      "source": [
        "base_url = 'https://market.chelpipe.ru/'\n",
        "base_html = get_html(base_url)\n",
        "\n",
        "# browser.implicitly_wait(0.5)\n",
        "main_list = list()\n",
        "a = '/production/truby-bolshogo-diametra/'\n",
        "page = 1\n",
        "new_url = (base_url + a).replace('//', '/')\n",
        "browser.get(new_url)\n",
        "while True:\n",
        "    try:\n",
        "        table = browser.find_element_by_class_name('table__main')\n",
        "        print(page)\n",
        "    except:\n",
        "        break\n",
        "\n",
        "    table_html = table.get_attribute('outerHTML')\n",
        "    table_soup = BeautifulSoup(table_html, 'lxml')\n",
        "    div_row = table_soup.find_all('div', {'class': 'table-row'})\n",
        "    for dr in div_row:\n",
        "\n",
        "        page_product = dr.find('a').get('href')\n",
        "\n",
        "        try:\n",
        "            browser.get((base_url + page_product).replace('//', '/'))\n",
        "        except common.exceptions.TimeoutException:\n",
        "            print('TimeoutException')\n",
        "            print((base_url + page_product).replace('//', '/'))\n",
        "            browser.get((base_url + page_product).replace('//', '/'))\n",
        "        try:\n",
        "            product_page = browser.find_element_by_class_name('product-card-main__stats').get_attribute('outerHTML')\n",
        "        except common.exceptions.NoSuchElementException:\n",
        "            print('NoSuchElementException')\n",
        "            print(browser.current_url)\n",
        "            product_page = browser.find_element_by_class_name('product-card-main__stats').get_attribute('outerHTML')\n",
        "        cart = BeautifulSoup(product_page, 'lxml')\n",
        "        data = cart.find_all('div', {'class': 'product-card-main__stats-item-value'})\n",
        "\n",
        "        production_method = data[5].text\n",
        "        if production_method == 'Горячедеформированные трубы':\n",
        "          production_method = 'г/д'\n",
        "        elif production_method == 'Холоднодеформированные трубы':\n",
        "          production_method = 'х/д'\n",
        "        elif production_method == 'Электросварные трубы':\n",
        "          production_method = 'ЭСВ'\n",
        "        else:\n",
        "          production_method = None\n",
        "\n",
        "        article = data[-1].text\n",
        "        type_of_length = data[-2].text.strip()\n",
        "\n",
        "        row = dr.find_all('div', {'class': 'table-row__item-value'})\n",
        "\n",
        "        for_tube = dr.find('div', {'class': 'table-row__item-value-secondary'})\n",
        "        type_tube = for_tube.find_all('div')[-1].text.strip()\n",
        "        standard = dr.find('div', {'class': 'table-row__item-value-primary'}).text.split(',')\n",
        "        steel = row[0].text\n",
        "        diameter = float(row[1].text.split('/')[0].strip())\n",
        "        wall = float(row[2].text)\n",
        "        region = row[3].text\n",
        "        a_r = row[4].find('span').text.split('/')\n",
        "\n",
        "        try:\n",
        "            availability = float(a_r[0].strip())\n",
        "        except ValueError:\n",
        "            availability = 0\n",
        "\n",
        "        try:\n",
        "            if len(a_r) > 1:\n",
        "                reserve = float(a_r[-1].strip())\n",
        "            else:\n",
        "                reserve = 0\n",
        "\n",
        "        except ValueError:\n",
        "            raise ValueError()\n",
        "\n",
        "        float_prices = []\n",
        "        if 'от' in row[5].text:\n",
        "          price_table =  browser.find_element_by_class_name(\"new-table__inner\").get_attribute('outerHTML')\n",
        "          price_table = BeautifulSoup(price_table, 'lxml')\n",
        "          price_table = price_table.find_all('div', {'class': 'new-table__row'})[1]\n",
        "          prices = price_table.find_all('div', {'class': 'new-table__cell--order-1'})\n",
        "          for pr in prices:\n",
        "            buff_price = pr.find('div', {'class': 'new-table__cell-value'}).text.replace(u'\\xa0', u'').replace('руб', '').strip()\n",
        "            if buff_price == '—':\n",
        "              float_prices.append(0)\n",
        "            else:\n",
        "              float_prices.append(float(buff_price))\n",
        "        else:\n",
        "          try:\n",
        "              price = float(row[5].text.replace(u'\\xa0', u'').replace('i', '').replace('от', '').replace('руб.', '').strip())\n",
        "          except ValueError:\n",
        "              price = 0\n",
        "\n",
        "        for s in standard:\n",
        "            main_list.append({'type_tube': type_tube, \n",
        "                              'standard': s.replace('\\n', '').strip(),\n",
        "                              'steel': steel,\n",
        "                              'diameter': diameter,\n",
        "                              'wall': wall,\n",
        "                              'region': region,\n",
        "                              'availability': availability,\n",
        "                              'reserve': reserve,\n",
        "                              'price_min': float_prices[0] if float_prices else price,\n",
        "                              'price_max': float_prices[-1] if float_prices else None,\n",
        "                              'article': article,\n",
        "                              'type_of_length': type_of_length,\n",
        "                              'production_method': production_method})\n",
        "\n",
        "\n",
        "    page += 1\n",
        "    browser.get(new_url + f'?PAGEN_1={page}')"
      ],
      "execution_count": 5,
      "outputs": [
        {
          "output_type": "stream",
          "text": [
            "/usr/local/lib/python3.6/dist-packages/urllib3/connectionpool.py:847: InsecureRequestWarning: Unverified HTTPS request is being made. Adding certificate verification is strongly advised. See: https://urllib3.readthedocs.io/en/latest/advanced-usage.html#ssl-warnings\n",
            "  InsecureRequestWarning)\n"
          ],
          "name": "stderr"
        },
        {
          "output_type": "stream",
          "text": [
            "1\n",
            "2\n",
            "3\n"
          ],
          "name": "stdout"
        }
      ]
    },
    {
      "cell_type": "code",
      "metadata": {
        "id": "Pw-wud-ijScz"
      },
      "source": [
        "json_list = json.dumps(main_list,  ensure_ascii=False).replace('},', '},\\n')\n",
        "with open('truby-bolshogo-diametra.json', \"w\",  encoding='utf-8') as file:\n",
        "    file.write(json_list)\n",
        "browser.quit()"
      ],
      "execution_count": 6,
      "outputs": []
    },
    {
      "cell_type": "code",
      "metadata": {
        "id": "4vm_TnRb_2Or"
      },
      "source": [
        ""
      ],
      "execution_count": null,
      "outputs": []
    }
  ]
}